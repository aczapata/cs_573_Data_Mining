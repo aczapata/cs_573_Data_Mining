{
 "cells": [
  {
   "cell_type": "code",
   "execution_count": 2,
   "metadata": {},
   "outputs": [],
   "source": [
    "import numpy as np\n",
    "import pandas as pd"
   ]
  },
  {
   "cell_type": "code",
   "execution_count": 9,
   "metadata": {
    "scrolled": false
   },
   "outputs": [],
   "source": [
    "data = pd.read_csv(\"dating.csv\")\n",
    "data_binned = pd.DataFrame()"
   ]
  },
  {
   "cell_type": "code",
   "execution_count": 6,
   "metadata": {},
   "outputs": [],
   "source": [
    "range_min = {}\n",
    "range_max = {}\n",
    "\n",
    "range_min['age'], range_max['age'] = 18, 58\n",
    "range_min['age_o'], range_max['age_o'] = 18, 58\n",
    "range_min['importance_same_race'], range_max['importance_same_race'] = 0, 10\n",
    "range_min['importance_same_religion'], range_max['importance_same_religion'] = 0, 10\n",
    "\n",
    "range_min['pref_o_attractive'], range_max['pref_o_attractive'] = 0, 1\n",
    "range_min['pref_o_sincere'], range_max['pref_o_sincere'] = 0, 1\n",
    "range_min['pref_o_intelligence'], range_max['pref_o_intelligence'] = 0, 1\n",
    "range_min['pref_o_funny'], range_max['pref_o_funny'] = 0, 1\n",
    "range_min['pref_o_ambitious'], range_max['pref_o_ambitious'] = 0, 1\n",
    "range_min['pref_o_shared_interests'], range_max['pref_o_shared_interests'] = 0, 1\n",
    "\n",
    "range_min['attractive_important'], range_max['attractive_important'] = 0, 1\n",
    "range_min['sincere_important'], range_max['sincere_important'] = 0, 1\n",
    "range_min['intelligence_important'], range_max['intelligence_important'] = 0, 1\n",
    "range_min['funny_important'], range_max['funny_important'] = 0, 1\n",
    "range_min['ambition_important'], range_max['ambition_important'] = 0, 1\n",
    "range_min['shared_interests_important'], range_max['shared_interests_important'] = 0, 1\n",
    "\n",
    "range_min['attractive'], range_max['attractive'] = 0, 10\n",
    "range_min['sincere'], range_max['sincere'] = 0, 10\n",
    "range_min['intelligence'], range_max['intelligence'] = 0, 10\n",
    "range_min['funny'], range_max['funny'] = 0, 10\n",
    "range_min['ambition'], range_max['ambition'] = 0, 10\n",
    "\n",
    "range_min['attractive_partner'], range_max['attractive_partner'] = 0, 10\n",
    "range_min['sincere_partner'], range_max['sincere_partner'] = 0, 10\n",
    "range_min['intelligence_parter'], range_max['intelligence_parter'] = 0, 10\n",
    "range_min['funny_partner'], range_max['funny_partner'] = 0, 10\n",
    "range_min['ambition_partner'], range_max['ambition_partner'] = 0, 10\n",
    "range_min['shared_interests_partner'], range_max['shared_interests_partner'] = 0, 10\n",
    "\n",
    "range_min['sports'], range_max['sports'] = 0, 10\n",
    "range_min['tvsports'], range_max['tvsports'] = 0, 10\n",
    "range_min['exercise'], range_max['exercise'] = 0, 10\n",
    "range_min['dining'], range_max['dining'] = 0, 10\n",
    "range_min['museums'], range_max['museums'] = 0, 10\n",
    "range_min['art'], range_max['art'] = 0, 10\n",
    "range_min['hiking'], range_max['hiking'] = 0, 10\n",
    "range_min['gaming'], range_max['gaming'] = 0, 10\n",
    "range_min['clubbing'], range_max['clubbing'] = 0, 10\n",
    "range_min['reading'], range_max['reading'] = 0, 10\n",
    "range_min['tv'], range_max['tv'] = 0, 10\n",
    "range_min['theater'], range_max['theater'] = 0, 10\n",
    "range_min['movies'], range_max['movies'] = 0, 10\n",
    "range_min['concerts'], range_max['concerts'] = 0, 10\n",
    "range_min['music'], range_max['music'] = 0, 10\n",
    "range_min['shopping'], range_max['shopping'] = 0, 10\n",
    "range_min['yoga'], range_max['yoga'] = 0, 10\n",
    "\n",
    "range_min['interests_correlate'], range_max['interests_correlate'] = -1, 1\n",
    "range_min['expected_happy_with_sd_people'], range_max['expected_happy_with_sd_people'] = 0, 10\n",
    "range_min['like'], range_max['like'] = 0, 10"
   ]
  },
  {
   "cell_type": "code",
   "execution_count": 13,
   "metadata": {
    "scrolled": true
   },
   "outputs": [
    {
     "name": "stdout",
     "output_type": "stream",
     "text": [
      " age: [3710 2932   97    0    5]\n",
      " age_o: [3704 2899  136    0    5]\n",
      " importance_same_race: [2980 1213  977 1013  561]\n",
      " importance_same_religion: [3203 1188 1110  742  501]\n",
      " pref_o_attractive: [4333 1987  344   51   29]\n",
      " pref_o_sincere: [5500 1225   19    0    0]\n",
      " pref_o_intelligence: [4601 2062   81    0    0]\n",
      " pref_o_funny: [5616 1103   25    0    0]\n",
      " pref_o_ambitious: [6656   88    0    0    0]\n",
      " pref_o_shared_interests: [6467  277    0    0    0]\n",
      " attractive_important: [4323 2017  328   57   19]\n",
      " sincere_important: [5495 1235   14    0    0]\n",
      " intelligence_important: [4606 2071   67    0    0]\n",
      " funny_important: [5588 1128   28    0    0]\n",
      " ambition_important: [6644  100    0    0    0]\n",
      " shared_interests_important: [6494  250    0    0    0]\n",
      " attractive: [  18  276 1462 4122  866]\n",
      " sincere: [  33  117  487 2715 3392]\n",
      " intelligence: [  34  185 1049 3190 2286]\n",
      " funny: [   0   19  221 3191 3313]\n",
      " ambition: [  84  327 1070 2876 2387]\n",
      " attractive_partner: [ 284  948 2418 2390  704]\n",
      " sincere_partner: [  94  353 1627 3282 1388]\n",
      " intelligence_parter: [  36  193 1509 3509 1497]\n",
      " funny_partner: [ 279  733 2296 2600  836]\n",
      " ambition_partner: [ 119  473 2258 2804 1090]\n",
      " shared_interests_partner: [ 701 1269 2536 1774  464]\n",
      " sports: [ 650  961 1369 2077 1687]\n",
      " tvsports: [2151 1292 1233 1383  685]\n",
      " exercise: [ 619  952 1775 2115 1283]\n",
      " dining: [  39  172 1118 2797 2618]\n",
      " museums: [ 117  732 1417 2737 1741]\n",
      " art: [ 224  946 1557 2500 1517]\n",
      " hiking: [ 963 1386 1575 1855  965]\n",
      " gaming: [2565 1522 1435  979  243]\n",
      " clubbing: [ 912 1068 1668 2193  903]\n",
      " reading: [ 131  398 1071 2317 2827]\n",
      " tv: [1188 1216 1999 1642  699]\n",
      " theater: [ 288  811 1585 2300 1760]\n",
      " movies: [  45  248  843 2783 2825]\n",
      " concerts: [ 222  777 1752 2282 1711]\n",
      " music: [  62  196 1106 2583 2797]\n",
      " shopping: [1093 1098 1709 1643 1201]\n",
      " yoga: [2285 1392 1369 1056  642]\n",
      " interests_correlate: [  18  758 2520 2875  573]\n",
      " expected_happy_with_sd_people: [ 321 1262 3292 1596  273]\n",
      " like: [ 273  865 2539 2560  507]\n"
     ]
    }
   ],
   "source": [
    "categorical_columns = ['gender', 'race', 'race_o', 'samerace', 'field', 'decision']\n",
    "continous_columns = [col for col in data.columns if col not in categorical_columns]\n",
    "for col in continous_columns:\n",
    "    min_col = range_min[col]\n",
    "    max_col = range_max[col]\n",
    "    data[col] = [min_col if c < min_col else c for c in data[col]]\n",
    "    data[col] = [max_col if c > max_col else c for c in data[col]]\n",
    "    \n",
    "for col in data.columns:\n",
    "    if col in continous_columns:\n",
    "        min_col = range_min[col]\n",
    "        max_col = range_max[col]\n",
    "        bin_size = (max_col - min_col)/5\n",
    "        bins = np.arange(min_col, max_col + bin_size, bin_size)\n",
    "        data_binned[col] = pd.cut(data[col], bins, include_lowest =True)\n",
    "        print(f\" {col}: {data_binned[col].value_counts(sort=False).values}\")\n",
    "    else:\n",
    "        data_binned[col] = data[col]"
   ]
  },
  {
   "cell_type": "code",
   "execution_count": 11,
   "metadata": {},
   "outputs": [
    {
     "data": {
      "text/plain": [
       "(8.0, 10.0]      2827\n",
       "(6.0, 8.0]       2317\n",
       "(4.0, 6.0]       1071\n",
       "(2.0, 4.0]        398\n",
       "(-0.001, 2.0]     131\n",
       "Name: reading, dtype: int64"
      ]
     },
     "execution_count": 11,
     "metadata": {},
     "output_type": "execute_result"
    }
   ],
   "source": [
    "data_binned['reading'].value_counts()"
   ]
  }
 ],
 "metadata": {
  "kernelspec": {
   "display_name": "Python 3",
   "language": "python",
   "name": "python3"
  },
  "language_info": {
   "codemirror_mode": {
    "name": "ipython",
    "version": 3
   },
   "file_extension": ".py",
   "mimetype": "text/x-python",
   "name": "python",
   "nbconvert_exporter": "python",
   "pygments_lexer": "ipython3",
   "version": "3.7.3"
  }
 },
 "nbformat": 4,
 "nbformat_minor": 2
}
