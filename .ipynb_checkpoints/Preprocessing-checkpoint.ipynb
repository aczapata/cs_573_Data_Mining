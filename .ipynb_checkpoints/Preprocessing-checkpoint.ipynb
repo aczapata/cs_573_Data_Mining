{
 "cells": [
  {
   "cell_type": "code",
   "execution_count": 1,
   "metadata": {},
   "outputs": [],
   "source": [
    "import numpy as np\n",
    "import pandas as pd"
   ]
  },
  {
   "cell_type": "code",
   "execution_count": 20,
   "metadata": {
    "scrolled": true
   },
   "outputs": [
    {
     "name": "stdout",
     "output_type": "stream",
     "text": [
      "gender\n",
      "age\n",
      "age_o\n",
      "race\n",
      "race_o\n",
      "samerace\n",
      "importance_same_race\n",
      "importance_same_religion\n",
      "field\n",
      "pref_o_attractive\n",
      "pref_o_sincere\n",
      "pref_o_intelligence\n",
      "pref_o_funny\n",
      "pref_o_ambitious\n",
      "pref_o_shared_interests\n",
      "attractive_important\n",
      "sincere_important\n",
      "intelligence_important\n",
      "funny_important\n",
      "ambition_important\n",
      "shared_interests_important\n",
      "attractive\n",
      "sincere\n",
      "intelligence\n",
      "funny\n",
      "ambition\n",
      "attractive_partner\n",
      "sincere_partner\n",
      "intelligence_parter\n",
      "funny_partner\n",
      "ambition_partner\n",
      "shared_interests_partner\n",
      "sports\n",
      "tvsports\n",
      "exercise\n",
      "dining\n",
      "museums\n",
      "art\n",
      "hiking\n",
      "gaming\n",
      "clubbing\n",
      "reading\n",
      "tv\n",
      "theater\n",
      "movies\n",
      "concerts\n",
      "music\n",
      "shopping\n",
      "yoga\n",
      "interests_correlate\n",
      "expected_happy_with_sd_people\n",
      "like\n",
      "decision\n"
     ]
    },
    {
     "data": {
      "text/html": [
       "<div>\n",
       "<style scoped>\n",
       "    .dataframe tbody tr th:only-of-type {\n",
       "        vertical-align: middle;\n",
       "    }\n",
       "\n",
       "    .dataframe tbody tr th {\n",
       "        vertical-align: top;\n",
       "    }\n",
       "\n",
       "    .dataframe thead th {\n",
       "        text-align: right;\n",
       "    }\n",
       "</style>\n",
       "<table border=\"1\" class=\"dataframe\">\n",
       "  <thead>\n",
       "    <tr style=\"text-align: right;\">\n",
       "      <th></th>\n",
       "      <th>gender</th>\n",
       "      <th>age</th>\n",
       "      <th>age_o</th>\n",
       "      <th>race</th>\n",
       "      <th>race_o</th>\n",
       "      <th>samerace</th>\n",
       "      <th>importance_same_race</th>\n",
       "      <th>importance_same_religion</th>\n",
       "      <th>field</th>\n",
       "      <th>pref_o_attractive</th>\n",
       "      <th>...</th>\n",
       "      <th>theater</th>\n",
       "      <th>movies</th>\n",
       "      <th>concerts</th>\n",
       "      <th>music</th>\n",
       "      <th>shopping</th>\n",
       "      <th>yoga</th>\n",
       "      <th>interests_correlate</th>\n",
       "      <th>expected_happy_with_sd_people</th>\n",
       "      <th>like</th>\n",
       "      <th>decision</th>\n",
       "    </tr>\n",
       "  </thead>\n",
       "  <tbody>\n",
       "    <tr>\n",
       "      <th>0</th>\n",
       "      <td>female</td>\n",
       "      <td>21</td>\n",
       "      <td>27</td>\n",
       "      <td>'Asian/Pacific Islander/Asian-American'</td>\n",
       "      <td>European/Caucasian-American</td>\n",
       "      <td>0</td>\n",
       "      <td>2</td>\n",
       "      <td>4</td>\n",
       "      <td>Law</td>\n",
       "      <td>35.0</td>\n",
       "      <td>...</td>\n",
       "      <td>1</td>\n",
       "      <td>10</td>\n",
       "      <td>10</td>\n",
       "      <td>9</td>\n",
       "      <td>8</td>\n",
       "      <td>1</td>\n",
       "      <td>0.14</td>\n",
       "      <td>3</td>\n",
       "      <td>7.0</td>\n",
       "      <td>1</td>\n",
       "    </tr>\n",
       "    <tr>\n",
       "      <th>1</th>\n",
       "      <td>female</td>\n",
       "      <td>21</td>\n",
       "      <td>22</td>\n",
       "      <td>'Asian/Pacific Islander/Asian-American'</td>\n",
       "      <td>European/Caucasian-American</td>\n",
       "      <td>0</td>\n",
       "      <td>2</td>\n",
       "      <td>4</td>\n",
       "      <td>Law</td>\n",
       "      <td>60.0</td>\n",
       "      <td>...</td>\n",
       "      <td>1</td>\n",
       "      <td>10</td>\n",
       "      <td>10</td>\n",
       "      <td>9</td>\n",
       "      <td>8</td>\n",
       "      <td>1</td>\n",
       "      <td>0.54</td>\n",
       "      <td>3</td>\n",
       "      <td>7.0</td>\n",
       "      <td>1</td>\n",
       "    </tr>\n",
       "    <tr>\n",
       "      <th>2</th>\n",
       "      <td>female</td>\n",
       "      <td>21</td>\n",
       "      <td>23</td>\n",
       "      <td>'Asian/Pacific Islander/Asian-American'</td>\n",
       "      <td>European/Caucasian-American</td>\n",
       "      <td>0</td>\n",
       "      <td>2</td>\n",
       "      <td>4</td>\n",
       "      <td>Law</td>\n",
       "      <td>30.0</td>\n",
       "      <td>...</td>\n",
       "      <td>1</td>\n",
       "      <td>10</td>\n",
       "      <td>10</td>\n",
       "      <td>9</td>\n",
       "      <td>8</td>\n",
       "      <td>1</td>\n",
       "      <td>0.61</td>\n",
       "      <td>3</td>\n",
       "      <td>7.0</td>\n",
       "      <td>1</td>\n",
       "    </tr>\n",
       "    <tr>\n",
       "      <th>3</th>\n",
       "      <td>female</td>\n",
       "      <td>21</td>\n",
       "      <td>24</td>\n",
       "      <td>'Asian/Pacific Islander/Asian-American'</td>\n",
       "      <td>'Latino/Hispanic American'</td>\n",
       "      <td>0</td>\n",
       "      <td>2</td>\n",
       "      <td>4</td>\n",
       "      <td>Law</td>\n",
       "      <td>30.0</td>\n",
       "      <td>...</td>\n",
       "      <td>1</td>\n",
       "      <td>10</td>\n",
       "      <td>10</td>\n",
       "      <td>9</td>\n",
       "      <td>8</td>\n",
       "      <td>1</td>\n",
       "      <td>0.21</td>\n",
       "      <td>3</td>\n",
       "      <td>6.0</td>\n",
       "      <td>1</td>\n",
       "    </tr>\n",
       "    <tr>\n",
       "      <th>4</th>\n",
       "      <td>female</td>\n",
       "      <td>21</td>\n",
       "      <td>25</td>\n",
       "      <td>'Asian/Pacific Islander/Asian-American'</td>\n",
       "      <td>European/Caucasian-American</td>\n",
       "      <td>0</td>\n",
       "      <td>2</td>\n",
       "      <td>4</td>\n",
       "      <td>Law</td>\n",
       "      <td>50.0</td>\n",
       "      <td>...</td>\n",
       "      <td>1</td>\n",
       "      <td>10</td>\n",
       "      <td>10</td>\n",
       "      <td>9</td>\n",
       "      <td>8</td>\n",
       "      <td>1</td>\n",
       "      <td>0.25</td>\n",
       "      <td>3</td>\n",
       "      <td>6.0</td>\n",
       "      <td>0</td>\n",
       "    </tr>\n",
       "  </tbody>\n",
       "</table>\n",
       "<p>5 rows × 53 columns</p>\n",
       "</div>"
      ],
      "text/plain": [
       "   gender  age  age_o                                     race  \\\n",
       "0  female   21     27  'Asian/Pacific Islander/Asian-American'   \n",
       "1  female   21     22  'Asian/Pacific Islander/Asian-American'   \n",
       "2  female   21     23  'Asian/Pacific Islander/Asian-American'   \n",
       "3  female   21     24  'Asian/Pacific Islander/Asian-American'   \n",
       "4  female   21     25  'Asian/Pacific Islander/Asian-American'   \n",
       "\n",
       "                        race_o  samerace  importance_same_race  \\\n",
       "0  European/Caucasian-American         0                     2   \n",
       "1  European/Caucasian-American         0                     2   \n",
       "2  European/Caucasian-American         0                     2   \n",
       "3   'Latino/Hispanic American'         0                     2   \n",
       "4  European/Caucasian-American         0                     2   \n",
       "\n",
       "   importance_same_religion field  pref_o_attractive  ...  theater  movies  \\\n",
       "0                         4   Law               35.0  ...        1      10   \n",
       "1                         4   Law               60.0  ...        1      10   \n",
       "2                         4   Law               30.0  ...        1      10   \n",
       "3                         4   Law               30.0  ...        1      10   \n",
       "4                         4   Law               50.0  ...        1      10   \n",
       "\n",
       "   concerts  music  shopping  yoga  interests_correlate  \\\n",
       "0        10      9         8     1                 0.14   \n",
       "1        10      9         8     1                 0.54   \n",
       "2        10      9         8     1                 0.61   \n",
       "3        10      9         8     1                 0.21   \n",
       "4        10      9         8     1                 0.25   \n",
       "\n",
       "   expected_happy_with_sd_people  like  decision  \n",
       "0                              3   7.0         1  \n",
       "1                              3   7.0         1  \n",
       "2                              3   7.0         1  \n",
       "3                              3   6.0         1  \n",
       "4                              3   6.0         0  \n",
       "\n",
       "[5 rows x 53 columns]"
      ]
     },
     "execution_count": 20,
     "metadata": {},
     "output_type": "execute_result"
    }
   ],
   "source": [
    "data = pd.read_csv(\"dating-full.csv\")\n",
    "print(\"\\n\".join(data.columns))\n",
    "data.head()"
   ]
  },
  {
   "cell_type": "code",
   "execution_count": 21,
   "metadata": {},
   "outputs": [
    {
     "name": "stdout",
     "output_type": "stream",
     "text": [
      "Quotes removed from 8316 cells.\n"
     ]
    }
   ],
   "source": [
    "quoted_columns = ['race', 'race_o', 'field']\n",
    "count_of_changed_cells = 0\n",
    "for col in quoted_columns:    \n",
    "    count_of_changed_cells += len(data[data[col].str.startswith(\"'\")])\n",
    "    data[col] = [c[1:-1] if c.startswith(\"'\") else c for c in data[col]]\n",
    "print(f\"Quotes removed from {count_of_changed_cells} cells.\")"
   ]
  },
  {
   "cell_type": "code",
   "execution_count": 35,
   "metadata": {
    "scrolled": true
   },
   "outputs": [
    {
     "name": "stdout",
     "output_type": "stream",
     "text": [
      "Standardized 5707 cells to lower case.\n"
     ]
    }
   ],
   "source": [
    "count_of_changed_cells = len(data[~data['field'].str.islower()])\n",
    "data['field'] = [c.lower() if ~c.islower() else c for c in data['field']]\n",
    "print(f\"Standardized {count_of_changed_cells} cells to lower case.\")"
   ]
  },
  {
   "cell_type": "code",
   "execution_count": 36,
   "metadata": {},
   "outputs": [],
   "source": [
    "label_columns = ['gender', 'race', 'race_o', 'field']\n",
    "le_encoders = {}\n",
    "for col in label_columns:\n",
    "    keys = data[col].sort_values().unique()\n",
    "    values = np.arange(len(keys))\n",
    "    le_encoders[col] = dict(zip(keys, values))"
   ]
  },
  {
   "cell_type": "code",
   "execution_count": 37,
   "metadata": {},
   "outputs": [
    {
     "name": "stdout",
     "output_type": "stream",
     "text": [
      "Value assigned for male in column gender: 1.\n",
      "Value assigned for European/Caucasian-American in column race: 2.\n",
      "Value assigned for Latino/Hispanic American in column race o: 3.\n",
      "Value assigned for law in column field: 121.\n"
     ]
    }
   ],
   "source": [
    "print(f\"Value assigned for male in column gender: {le_encoders['gender']['male']}.\")\n",
    "print(f\"Value assigned for European/Caucasian-American in column race: {le_encoders['race']['European/Caucasian-American']}.\")\n",
    "print(f\"Value assigned for Latino/Hispanic American in column race o: {le_encoders['race_o']['Latino/Hispanic American']}.\")\n",
    "print(f\"Value assigned for law in column field: {le_encoders['field']['law']}.\")"
   ]
  },
  {
   "cell_type": "code",
   "execution_count": 24,
   "metadata": {},
   "outputs": [
    {
     "name": "stdout",
     "output_type": "stream",
     "text": [
      "Mean of attractive_important: 0.22.\n",
      "Mean of sincere_important: 0.17.\n",
      "Mean of intelligence_important: 0.20.\n",
      "Mean of funny_important: 0.17.\n",
      "Mean of ambition_important: 0.11.\n",
      "Mean of shared_interests_important: 0.12.\n"
     ]
    }
   ],
   "source": [
    "data['total'] = data['attractive_important'] + data['sincere_important'] + data['intelligence_important'] + data['funny_important'] + data['ambition_important'] +data['shared_interests_important']\n",
    "preference_scores_participant = ['attractive_important','sincere_important', 'intelligence_important', 'funny_important','ambition_important', 'shared_interests_important']\n",
    "for col in preference_scores_participant:\n",
    "    data[col] = data[col] / data['total']\n",
    "    print(f\"Mean of {col}: {data[col].mean():.2f}.\")"
   ]
  },
  {
   "cell_type": "code",
   "execution_count": 25,
   "metadata": {},
   "outputs": [
    {
     "name": "stdout",
     "output_type": "stream",
     "text": [
      "Mean of pref_o_attractive: 0.22.\n",
      "Mean of pref_o_sincere: 0.17.\n",
      "Mean of pref_o_intelligence: 0.20.\n",
      "Mean of pref_o_funny: 0.17.\n",
      "Mean of pref_o_ambitious: 0.11.\n",
      "Mean of pref_o_shared_interests: 0.12.\n"
     ]
    }
   ],
   "source": [
    "data['total_o'] = data['pref_o_attractive'] + data['pref_o_sincere'] + data['pref_o_intelligence'] + data['pref_o_funny'] + data['pref_o_ambitious'] +data['pref_o_shared_interests']\n",
    "preference_scores_partner = ['pref_o_attractive', 'pref_o_sincere', 'pref_o_intelligence', 'pref_o_funny', 'pref_o_ambitious', 'pref_o_shared_interests']\n",
    "for col in preference_scores_partner:\n",
    "    data[col] = data[col] / data['total_o']\n",
    "    print(f\"Mean of {col}: {data[col].mean():.2f}.\")"
   ]
  }
 ],
 "metadata": {
  "kernelspec": {
   "display_name": "Python 3",
   "language": "python",
   "name": "python3"
  },
  "language_info": {
   "codemirror_mode": {
    "name": "ipython",
    "version": 3
   },
   "file_extension": ".py",
   "mimetype": "text/x-python",
   "name": "python",
   "nbconvert_exporter": "python",
   "pygments_lexer": "ipython3",
   "version": "3.7.3"
  }
 },
 "nbformat": 4,
 "nbformat_minor": 2
}
