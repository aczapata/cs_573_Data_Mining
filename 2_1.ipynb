{
 "cells": [
  {
   "cell_type": "code",
   "execution_count": 11,
   "metadata": {},
   "outputs": [],
   "source": [
    "import numpy as np\n",
    "import pandas as pd\n",
    "import matplotlib.pyplot as plt"
   ]
  },
  {
   "cell_type": "code",
   "execution_count": 4,
   "metadata": {},
   "outputs": [],
   "source": [
    "data = pd.read_csv(\"dating.csv\")\n",
    "data_male = data[data['gender'] == 0]\n",
    "data_female = data[data['gender'] == 1]"
   ]
  },
  {
   "cell_type": "code",
   "execution_count": 27,
   "metadata": {},
   "outputs": [
    {
     "data": {
      "text/plain": [
       "count    3309.000000\n",
       "mean        0.179631\n",
       "std         0.093674\n",
       "min         0.000000\n",
       "25%         0.140000\n",
       "50%         0.153800\n",
       "75%         0.200000\n",
       "max         0.900000\n",
       "Name: attractive_important, dtype: float64"
      ]
     },
     "execution_count": 27,
     "metadata": {},
     "output_type": "execute_result"
    }
   ],
   "source": [
    "data_male['attractive_important'].describe()"
   ]
  },
  {
   "cell_type": "code",
   "execution_count": 26,
   "metadata": {},
   "outputs": [
    {
     "data": {
      "text/plain": [
       "count    3435.000000\n",
       "mean        0.261172\n",
       "std         0.124348\n",
       "min         0.066693\n",
       "25%         0.190481\n",
       "50%         0.222222\n",
       "75%         0.300000\n",
       "max         1.000000\n",
       "Name: attractive_important, dtype: float64"
      ]
     },
     "execution_count": 26,
     "metadata": {},
     "output_type": "execute_result"
    }
   ],
   "source": [
    "data_female['attractive_important'].describe()"
   ]
  },
  {
   "cell_type": "code",
   "execution_count": 22,
   "metadata": {},
   "outputs": [
    {
     "data": {
      "text/plain": [
       "<matplotlib.legend.Legend at 0x1bb2f6594e0>"
      ]
     },
     "execution_count": 22,
     "metadata": {},
     "output_type": "execute_result"
    },
    {
     "data": {
      "image/png": "[encoded data removed]",
      "text/plain": [
       "<Figure size 576x360 with 1 Axes>"
      ]
     },
     "metadata": {
      "needs_background": "light"
     },
     "output_type": "display_data"
    }
   ],
   "source": [
    "male_means = [data_male['attractive_important'].mean(),\n",
    "data_male['sincere_important'].mean(),\n",
    "data_male['intelligence_important'].mean(),\n",
    "data_male['funny_important'].mean(),\n",
    "data_male['ambition_important'].mean(),\n",
    "data_male['shared_interests_important'].mean()]\n",
    "\n",
    "female_means = [data_female['attractive_important'].mean(),\n",
    "data_female['sincere_important'].mean(),\n",
    "data_female['intelligence_important'].mean(),\n",
    "data_female['funny_important'].mean(),\n",
    "data_female['ambition_important'].mean(),\n",
    "data_female['shared_interests_important'].mean()]\n",
    "\n",
    "labels = ['attractive', 'sincere', 'intelligence', 'funny', 'ambition', 'shared interests']\n",
    "x = np.arange(len(labels))\n",
    "width = 0.45\n",
    "\n",
    "fig, ax = plt.subplots(figsize=(8,5))\n",
    "rects1 = ax.bar(x - width/2, male_means, width, label='Men')\n",
    "rects2 = ax.bar(x + width/2, female_means, width, label='Women')\n",
    "\n",
    "ax.set_ylabel('Scores')\n",
    "ax.set_title('Scores by Gender')\n",
    "ax.set_xticks(x)\n",
    "ax.set_xticklabels(labels)\n",
    "ax.legend()"
   ]
  },
  {
   "cell_type": "code",
   "execution_count": 70,
   "metadata": {},
   "outputs": [
    {
     "data": {
      "text/plain": [
       "0.200000    1333\n",
       "0.150000     721\n",
       "0.250000     628\n",
       "0.100000     617\n",
       "0.300000     573\n",
       "0.500000     251\n",
       "0.400000     247\n",
       "0.350000     161\n",
       "0.160000     116\n",
       "0.140000      92\n",
       "0.170000      77\n",
       "0.180000      72\n",
       "0.190000      64\n",
       "0.153800      60\n",
       "0.166667      58\n",
       "0.120000      57\n",
       "0.220000      55\n",
       "0.177782      47\n",
       "0.050000      44\n",
       "0.153815      40\n",
       "0.230000      38\n",
       "0.240000      35\n",
       "0.750000      33\n",
       "0.166700      32\n",
       "0.150900      32\n",
       "0.155584      30\n",
       "0.600000      30\n",
       "0.333333      28\n",
       "0.700000      24\n",
       "0.222222      23\n",
       "            ... \n",
       "0.450000      11\n",
       "0.090909      10\n",
       "1.000000      10\n",
       "0.122388      10\n",
       "0.160684      10\n",
       "0.195680      10\n",
       "0.209279      10\n",
       "0.204541      10\n",
       "0.130400      10\n",
       "0.191481      10\n",
       "0.095190       9\n",
       "0.150915       9\n",
       "0.900000       9\n",
       "0.085100       9\n",
       "0.207921       8\n",
       "0.210000       8\n",
       "0.159132       8\n",
       "0.176465       8\n",
       "0.135135       7\n",
       "0.083308       6\n",
       "0.181818       6\n",
       "0.127700       5\n",
       "0.194419       5\n",
       "0.173900       4\n",
       "0.208300       4\n",
       "0.199980       3\n",
       "0.090000       3\n",
       "0.155600       3\n",
       "0.097610       2\n",
       "0.181800       1\n",
       "Name: attractive_important, Length: 109, dtype: int64"
      ]
     },
     "execution_count": 70,
     "metadata": {},
     "output_type": "execute_result"
    }
   ],
   "source": [
    "success_count = data[data['decision'] == 1]['attractive_important'].value_counts()\n",
    "value_count = data['attractive_important'].value_counts()\n"
   ]
  }
 ],
 "metadata": {
  "kernelspec": {
   "display_name": "Python 3",
   "language": "python",
   "name": "python3"
  },
  "language_info": {
   "codemirror_mode": {
    "name": "ipython",
    "version": 3
   },
   "file_extension": ".py",
   "mimetype": "text/x-python",
   "name": "python",
   "nbconvert_exporter": "python",
   "pygments_lexer": "ipython3",
   "version": "3.7.3"
  }
 },
 "nbformat": 4,
 "nbformat_minor": 2
}
