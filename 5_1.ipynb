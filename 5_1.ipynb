{
 "cells": [
  {
   "cell_type": "code",
   "execution_count": 1,
   "metadata": {},
   "outputs": [],
   "source": [
    "import pandas as pd\n",
    "import numpy as np"
   ]
  },
  {
   "cell_type": "code",
   "execution_count": 22,
   "metadata": {},
   "outputs": [
    {
     "data": {
      "text/html": [
       "<div>\n",
       "<style scoped>\n",
       "    .dataframe tbody tr th:only-of-type {\n",
       "        vertical-align: middle;\n",
       "    }\n",
       "\n",
       "    .dataframe tbody tr th {\n",
       "        vertical-align: top;\n",
       "    }\n",
       "\n",
       "    .dataframe thead th {\n",
       "        text-align: right;\n",
       "    }\n",
       "</style>\n",
       "<table border=\"1\" class=\"dataframe\">\n",
       "  <thead>\n",
       "    <tr style=\"text-align: right;\">\n",
       "      <th></th>\n",
       "      <th>gender</th>\n",
       "      <th>age</th>\n",
       "      <th>age_o</th>\n",
       "      <th>race</th>\n",
       "      <th>race_o</th>\n",
       "      <th>samerace</th>\n",
       "      <th>importance_same_race</th>\n",
       "      <th>importance_same_religion</th>\n",
       "      <th>field</th>\n",
       "      <th>pref_o_attractive</th>\n",
       "      <th>...</th>\n",
       "      <th>theater</th>\n",
       "      <th>movies</th>\n",
       "      <th>concerts</th>\n",
       "      <th>music</th>\n",
       "      <th>shopping</th>\n",
       "      <th>yoga</th>\n",
       "      <th>interests_correlate</th>\n",
       "      <th>expected_happy_with_sd_people</th>\n",
       "      <th>like</th>\n",
       "      <th>decision</th>\n",
       "    </tr>\n",
       "  </thead>\n",
       "  <tbody>\n",
       "    <tr>\n",
       "      <th>0</th>\n",
       "      <td>0</td>\n",
       "      <td>(17.999, 26.0]</td>\n",
       "      <td>(26.0, 34.0]</td>\n",
       "      <td>0</td>\n",
       "      <td>2</td>\n",
       "      <td>0</td>\n",
       "      <td>(-0.001, 2.0]</td>\n",
       "      <td>(2.0, 4.0]</td>\n",
       "      <td>121</td>\n",
       "      <td>(0.2, 0.4]</td>\n",
       "      <td>...</td>\n",
       "      <td>(-0.001, 2.0]</td>\n",
       "      <td>(8.0, 10.0]</td>\n",
       "      <td>(8.0, 10.0]</td>\n",
       "      <td>(8.0, 10.0]</td>\n",
       "      <td>(6.0, 8.0]</td>\n",
       "      <td>(-0.001, 2.0]</td>\n",
       "      <td>(-0.2, 0.2]</td>\n",
       "      <td>(2.0, 4.0]</td>\n",
       "      <td>(6.0, 8.0]</td>\n",
       "      <td>1</td>\n",
       "    </tr>\n",
       "    <tr>\n",
       "      <th>1</th>\n",
       "      <td>0</td>\n",
       "      <td>(17.999, 26.0]</td>\n",
       "      <td>(17.999, 26.0]</td>\n",
       "      <td>0</td>\n",
       "      <td>2</td>\n",
       "      <td>0</td>\n",
       "      <td>(-0.001, 2.0]</td>\n",
       "      <td>(2.0, 4.0]</td>\n",
       "      <td>121</td>\n",
       "      <td>(0.4, 0.6]</td>\n",
       "      <td>...</td>\n",
       "      <td>(-0.001, 2.0]</td>\n",
       "      <td>(8.0, 10.0]</td>\n",
       "      <td>(8.0, 10.0]</td>\n",
       "      <td>(8.0, 10.0]</td>\n",
       "      <td>(6.0, 8.0]</td>\n",
       "      <td>(-0.001, 2.0]</td>\n",
       "      <td>(0.2, 0.6]</td>\n",
       "      <td>(2.0, 4.0]</td>\n",
       "      <td>(6.0, 8.0]</td>\n",
       "      <td>1</td>\n",
       "    </tr>\n",
       "    <tr>\n",
       "      <th>2</th>\n",
       "      <td>0</td>\n",
       "      <td>(17.999, 26.0]</td>\n",
       "      <td>(17.999, 26.0]</td>\n",
       "      <td>0</td>\n",
       "      <td>2</td>\n",
       "      <td>0</td>\n",
       "      <td>(-0.001, 2.0]</td>\n",
       "      <td>(2.0, 4.0]</td>\n",
       "      <td>121</td>\n",
       "      <td>(0.2, 0.4]</td>\n",
       "      <td>...</td>\n",
       "      <td>(-0.001, 2.0]</td>\n",
       "      <td>(8.0, 10.0]</td>\n",
       "      <td>(8.0, 10.0]</td>\n",
       "      <td>(8.0, 10.0]</td>\n",
       "      <td>(6.0, 8.0]</td>\n",
       "      <td>(-0.001, 2.0]</td>\n",
       "      <td>(0.6, 1.0]</td>\n",
       "      <td>(2.0, 4.0]</td>\n",
       "      <td>(6.0, 8.0]</td>\n",
       "      <td>1</td>\n",
       "    </tr>\n",
       "    <tr>\n",
       "      <th>3</th>\n",
       "      <td>0</td>\n",
       "      <td>(17.999, 26.0]</td>\n",
       "      <td>(17.999, 26.0]</td>\n",
       "      <td>0</td>\n",
       "      <td>3</td>\n",
       "      <td>0</td>\n",
       "      <td>(-0.001, 2.0]</td>\n",
       "      <td>(2.0, 4.0]</td>\n",
       "      <td>121</td>\n",
       "      <td>(0.2, 0.4]</td>\n",
       "      <td>...</td>\n",
       "      <td>(-0.001, 2.0]</td>\n",
       "      <td>(8.0, 10.0]</td>\n",
       "      <td>(8.0, 10.0]</td>\n",
       "      <td>(8.0, 10.0]</td>\n",
       "      <td>(6.0, 8.0]</td>\n",
       "      <td>(-0.001, 2.0]</td>\n",
       "      <td>(0.2, 0.6]</td>\n",
       "      <td>(2.0, 4.0]</td>\n",
       "      <td>(4.0, 6.0]</td>\n",
       "      <td>1</td>\n",
       "    </tr>\n",
       "    <tr>\n",
       "      <th>4</th>\n",
       "      <td>0</td>\n",
       "      <td>(17.999, 26.0]</td>\n",
       "      <td>(17.999, 26.0]</td>\n",
       "      <td>0</td>\n",
       "      <td>2</td>\n",
       "      <td>0</td>\n",
       "      <td>(-0.001, 2.0]</td>\n",
       "      <td>(2.0, 4.0]</td>\n",
       "      <td>121</td>\n",
       "      <td>(0.4, 0.6]</td>\n",
       "      <td>...</td>\n",
       "      <td>(-0.001, 2.0]</td>\n",
       "      <td>(8.0, 10.0]</td>\n",
       "      <td>(8.0, 10.0]</td>\n",
       "      <td>(8.0, 10.0]</td>\n",
       "      <td>(6.0, 8.0]</td>\n",
       "      <td>(-0.001, 2.0]</td>\n",
       "      <td>(0.2, 0.6]</td>\n",
       "      <td>(2.0, 4.0]</td>\n",
       "      <td>(4.0, 6.0]</td>\n",
       "      <td>0</td>\n",
       "    </tr>\n",
       "  </tbody>\n",
       "</table>\n",
       "<p>5 rows × 53 columns</p>\n",
       "</div>"
      ],
      "text/plain": [
       "   gender             age           age_o  race  race_o  samerace  \\\n",
       "0       0  (17.999, 26.0]    (26.0, 34.0]     0       2         0   \n",
       "1       0  (17.999, 26.0]  (17.999, 26.0]     0       2         0   \n",
       "2       0  (17.999, 26.0]  (17.999, 26.0]     0       2         0   \n",
       "3       0  (17.999, 26.0]  (17.999, 26.0]     0       3         0   \n",
       "4       0  (17.999, 26.0]  (17.999, 26.0]     0       2         0   \n",
       "\n",
       "  importance_same_race importance_same_religion  field pref_o_attractive  ...  \\\n",
       "0        (-0.001, 2.0]               (2.0, 4.0]    121        (0.2, 0.4]  ...   \n",
       "1        (-0.001, 2.0]               (2.0, 4.0]    121        (0.4, 0.6]  ...   \n",
       "2        (-0.001, 2.0]               (2.0, 4.0]    121        (0.2, 0.4]  ...   \n",
       "3        (-0.001, 2.0]               (2.0, 4.0]    121        (0.2, 0.4]  ...   \n",
       "4        (-0.001, 2.0]               (2.0, 4.0]    121        (0.4, 0.6]  ...   \n",
       "\n",
       "         theater       movies     concerts        music    shopping  \\\n",
       "0  (-0.001, 2.0]  (8.0, 10.0]  (8.0, 10.0]  (8.0, 10.0]  (6.0, 8.0]   \n",
       "1  (-0.001, 2.0]  (8.0, 10.0]  (8.0, 10.0]  (8.0, 10.0]  (6.0, 8.0]   \n",
       "2  (-0.001, 2.0]  (8.0, 10.0]  (8.0, 10.0]  (8.0, 10.0]  (6.0, 8.0]   \n",
       "3  (-0.001, 2.0]  (8.0, 10.0]  (8.0, 10.0]  (8.0, 10.0]  (6.0, 8.0]   \n",
       "4  (-0.001, 2.0]  (8.0, 10.0]  (8.0, 10.0]  (8.0, 10.0]  (6.0, 8.0]   \n",
       "\n",
       "            yoga interests_correlate expected_happy_with_sd_people  \\\n",
       "0  (-0.001, 2.0]         (-0.2, 0.2]                    (2.0, 4.0]   \n",
       "1  (-0.001, 2.0]          (0.2, 0.6]                    (2.0, 4.0]   \n",
       "2  (-0.001, 2.0]          (0.6, 1.0]                    (2.0, 4.0]   \n",
       "3  (-0.001, 2.0]          (0.2, 0.6]                    (2.0, 4.0]   \n",
       "4  (-0.001, 2.0]          (0.2, 0.6]                    (2.0, 4.0]   \n",
       "\n",
       "         like decision  \n",
       "0  (6.0, 8.0]        1  \n",
       "1  (6.0, 8.0]        1  \n",
       "2  (6.0, 8.0]        1  \n",
       "3  (4.0, 6.0]        1  \n",
       "4  (4.0, 6.0]        0  \n",
       "\n",
       "[5 rows x 53 columns]"
      ]
     },
     "execution_count": 22,
     "metadata": {},
     "output_type": "execute_result"
    }
   ],
   "source": [
    "training_data = pd.read_csv(\"trainingSet.csv\")\n",
    "features = [col for col in training_data.columns if col not in ['decision']]"
   ]
  },
  {
   "cell_type": "code",
   "execution_count": 5,
   "metadata": {},
   "outputs": [],
   "source": [
    "def nbc(t_frac):\n",
    "    training_sample = training_data.sample(frac=t_frac, random_state=47)\n",
    "    p_decision = training_sample.groupby(['decision'])['decision'].count()/len(training_sample)\n",
    "    p_attributes = {}\n",
    "    for col in features:\n",
    "        p_attributes[col] = (training_sample.groupby(['decision', col])['decision'].count().unstack(fill_value=0).stack() + 1)/(training_sample.groupby(['decision'])['decision'].count()+len(training_sample[col].sort_values().unique()))\n",
    "    return p_decision, p_attributes"
   ]
  },
  {
   "cell_type": "code",
   "execution_count": 6,
   "metadata": {},
   "outputs": [],
   "source": [
    "p_decision, p_attributes = nbc(1)"
   ]
  },
  {
   "cell_type": "code",
   "execution_count": 7,
   "metadata": {},
   "outputs": [],
   "source": [
    "def get_class(x):\n",
    "    p_estimated_decision = {}\n",
    "    for val in training_data['decision'].unique():\n",
    "        p_estimated_decision[val] = p_decision[val]\n",
    "        for col in features:\n",
    "            if x[col] in p_attributes[col][val]:\n",
    "                p_estimated_decision[val] = p_estimated_decision[val] *p_attributes[col][val][x[col]]\n",
    "    return p_estimated_decision"
   ]
  },
  {
   "cell_type": "code",
   "execution_count": 61,
   "metadata": {},
   "outputs": [],
   "source": [
    "test_data = pd.read_csv(\"testSet.csv\")\n",
    "accuracy_test = 0\n",
    "for i,x in test_data.iterrows():\n",
    "    p_estimated_decision = get_class(x)\n",
    "    accuracy_test += 1 if max(p_estimated_decision, key=p_estimated_decision.get) == x['decision'] else 0"
   ]
  },
  {
   "cell_type": "code",
   "execution_count": 62,
   "metadata": {
    "scrolled": true
   },
   "outputs": [
    {
     "name": "stdout",
     "output_type": "stream",
     "text": [
      "0.7494440326167532\n",
      "0.7494440326167532\n"
     ]
    }
   ],
   "source": [
    "print(\"Testing Accuracy:\", accuracy_test/len(test_data))"
   ]
  },
  {
   "cell_type": "code",
   "execution_count": 63,
   "metadata": {},
   "outputs": [],
   "source": [
    "training_data = pd.read_csv(\"trainingSet.csv\")\n",
    "accuracy_training = 0\n",
    "for i,x in training_data.iterrows():\n",
    "    p_estimated_decision = get_class(x)\n",
    "    accuracy_training += 1 if max(p_estimated_decision, key=p_estimated_decision.get) == x['decision'] else 0"
   ]
  },
  {
   "cell_type": "code",
   "execution_count": 64,
   "metadata": {},
   "outputs": [
    {
     "name": "stdout",
     "output_type": "stream",
     "text": [
      "0.77516218721038\n",
      "0.77516218721038\n"
     ]
    }
   ],
   "source": [
    "print(\"Training Accuracy:\", accuracy_test/len(test_data))"
   ]
  }
 ],
 "metadata": {
  "kernelspec": {
   "display_name": "Python 3",
   "language": "python",
   "name": "python3"
  },
  "language_info": {
   "codemirror_mode": {
    "name": "ipython",
    "version": 3
   },
   "file_extension": ".py",
   "mimetype": "text/x-python",
   "name": "python",
   "nbconvert_exporter": "python",
   "pygments_lexer": "ipython3",
   "version": "3.7.3"
  }
 },
 "nbformat": 4,
 "nbformat_minor": 2
}
