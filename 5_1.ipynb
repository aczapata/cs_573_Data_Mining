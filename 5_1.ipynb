{
 "cells": [
  {
   "cell_type": "code",
   "execution_count": 30,
   "metadata": {},
   "outputs": [],
   "source": [
    "import pandas as pd\n",
    "import numpy as np\n",
    "from collections import defaultdict"
   ]
  },
  {
   "cell_type": "code",
   "execution_count": 66,
   "metadata": {},
   "outputs": [],
   "source": [
    "training_data = pd.read_csv(\"trainingSet.csv\")\n",
    "features = [col for col in training_data.columns if col not in ['decision']]"
   ]
  },
  {
   "cell_type": "code",
   "execution_count": 42,
   "metadata": {
    "scrolled": true
   },
   "outputs": [],
   "source": [
    "def nbc(t_frac):\n",
    "    training_data = pd.read_csv(\"trainingSet.csv\")\n",
    "    features = [col for col in training_data.columns if col not in ['decision']]\n",
    "    classes = training_data['decision'].unique()\n",
    "    return nbc_core(features, training_data, 'decision', classes, t_frac)\n",
    "\n",
    "\n",
    "def nbc_core(feature_cols, data, class_col, class_val, t_frac):\n",
    "    training_sample = data.sample(frac=t_frac, random_state=47)\n",
    "    prob_decision = training_sample.groupby([class_col])[class_col].count() / len(training_sample)\n",
    "    prob_attributes = np.empty((len(class_val), len(feature_cols)), dtype=object)\n",
    "\n",
    "    for ix, col in enumerate(feature_cols):\n",
    "        prob = (training_sample.groupby([class_col, col])[class_col].count().unstack(fill_value=0).stack() + 1) / \\\n",
    "                               (training_sample.groupby([class_col])[class_col].count() +\n",
    "                                len(training_sample[col].sort_values().unique()))\n",
    "\n",
    "        for i_class in class_val:\n",
    "            prob_attributes[i_class][ix] = defaultdict(lambda: 1, prob[i_class])\n",
    "\n",
    "    return prob_decision, prob_attributes\n",
    "\n",
    "\n",
    "def get_accuracy(data, class_col, classes_val, feature_cols, prob_decision, prob_attributes):\n",
    "    prob = np.ones((len(data), len(classes_val)))\n",
    "\n",
    "    # Multiply all class probabilities\n",
    "    for class_i, class_val in enumerate(classes_val):\n",
    "        prob[:, class_i] *= prob[:, class_i] * prob_decision[class_i]\n",
    "\n",
    "    # Multiply all feature probabilities\n",
    "    for ix, col in enumerate(feature_cols):\n",
    "        for i_class in classes_val:\n",
    "            prob[:, i_class] *= data[col].map(prob_attributes[i_class][ix])\n",
    "\n",
    "    data[\"prediction\"] = np.argmax(prob, axis=1)\n",
    "    correct_classified = data[data[class_col] == data['prediction']][class_col].count()\n",
    "    return correct_classified/len(data)"
   ]
  },
  {
   "cell_type": "code",
   "execution_count": 43,
   "metadata": {
    "scrolled": true
   },
   "outputs": [],
   "source": [
    "training_data = pd.read_csv(\"trainingSet.csv\")\n",
    "features = [col for col in training_data.columns if col not in ['decision']]\n",
    "classes = training_data['decision'].unique()\n",
    "# Learn probabilities\n",
    "p_decision, p_attributes = nbc(1)"
   ]
  },
  {
   "cell_type": "code",
   "execution_count": 45,
   "metadata": {},
   "outputs": [
    {
     "name": "stdout",
     "output_type": "stream",
     "text": [
      "Training Accuracy: 0.78\n",
      "Testing Accuracy: 0.75\n"
     ]
    }
   ],
   "source": [
    "training_data = pd.read_csv(\"trainingSet.csv\")\n",
    "features = [col for col in training_data.columns if col not in ['decision']]\n",
    "classes = training_data['decision'].unique()\n",
    "# Learn probabilities\n",
    "p_decision, p_attributes = nbc(1)\n",
    "# Test probabilities\n",
    "accuracy_training = get_accuracy(training_data, 'decision', classes, features, p_decision, p_attributes)\n",
    "print(f\"Training Accuracy: {accuracy_training:.2f}\")\n",
    "\n",
    "test_data = pd.read_csv(\"testSet.csv\")\n",
    "accuracy_test = get_accuracy(test_data, 'decision', classes, features, p_decision, p_attributes)\n",
    "print(f\"Testing Accuracy: {accuracy_test:.2f}\")"
   ]
  },
  {
   "cell_type": "code",
   "execution_count": 32,
   "metadata": {},
   "outputs": [
    {
     "name": "stdout",
     "output_type": "stream",
     "text": [
      "1\n",
      "1\n"
     ]
    },
    {
     "data": {
      "text/html": [
       "<div>\n",
       "<style scoped>\n",
       "    .dataframe tbody tr th:only-of-type {\n",
       "        vertical-align: middle;\n",
       "    }\n",
       "\n",
       "    .dataframe tbody tr th {\n",
       "        vertical-align: top;\n",
       "    }\n",
       "\n",
       "    .dataframe thead th {\n",
       "        text-align: right;\n",
       "    }\n",
       "</style>\n",
       "<table border=\"1\" class=\"dataframe\">\n",
       "  <thead>\n",
       "    <tr style=\"text-align: right;\">\n",
       "      <th></th>\n",
       "      <th>gender</th>\n",
       "      <th>age</th>\n",
       "      <th>age_o</th>\n",
       "      <th>race</th>\n",
       "      <th>race_o</th>\n",
       "      <th>samerace</th>\n",
       "      <th>importance_same_race</th>\n",
       "      <th>importance_same_religion</th>\n",
       "      <th>field</th>\n",
       "      <th>pref_o_attractive</th>\n",
       "      <th>...</th>\n",
       "      <th>theater</th>\n",
       "      <th>movies</th>\n",
       "      <th>concerts</th>\n",
       "      <th>music</th>\n",
       "      <th>shopping</th>\n",
       "      <th>yoga</th>\n",
       "      <th>interests_correlate</th>\n",
       "      <th>expected_happy_with_sd_people</th>\n",
       "      <th>like</th>\n",
       "      <th>decision</th>\n",
       "    </tr>\n",
       "  </thead>\n",
       "  <tbody>\n",
       "  </tbody>\n",
       "</table>\n",
       "<p>0 rows × 53 columns</p>\n",
       "</div>"
      ],
      "text/plain": [
       "Empty DataFrame\n",
       "Columns: [gender, age, age_o, race, race_o, samerace, importance_same_race, importance_same_religion, field, pref_o_attractive, pref_o_sincere, pref_o_intelligence, pref_o_funny, pref_o_ambitious, pref_o_shared_interests, attractive_important, sincere_important, intelligence_important, funny_important, ambition_important, shared_interests_important, attractive, sincere, intelligence, funny, ambition, attractive_partner, sincere_partner, intelligence_parter, funny_partner, ambition_partner, shared_interests_partner, sports, tvsports, exercise, dining, museums, art, hiking, gaming, clubbing, reading, tv, theater, movies, concerts, music, shopping, yoga, interests_correlate, expected_happy_with_sd_people, like, decision]\n",
       "Index: []\n",
       "\n",
       "[0 rows x 53 columns]"
      ]
     },
     "execution_count": 32,
     "metadata": {},
     "output_type": "execute_result"
    }
   ],
   "source": [
    "a = (training_data.groupby(['decision', 'field'])['decision'].count().unstack(fill_value=0).stack() + 1) / \\\n",
    "                               (training_data.groupby(['decision'])['decision'].count() +\n",
    "                                len(training_data['field'].sort_values().unique()))\n",
    "p_0 = defaultdict(lambda : 1, a[0])\n",
    "p_1 = defaultdict(lambda : 1, a[1])\n",
    "print(p_0[156])\n",
    "print(p_1[156])\n",
    "training_data[training_data['field'] == 156] "
   ]
  },
  {
   "cell_type": "code",
   "execution_count": 7,
   "metadata": {},
   "outputs": [],
   "source": [
    "def get_class(x):\n",
    "    p_estimated_decision = {}\n",
    "    for val in training_data['decision'].unique():\n",
    "        p_estimated_decision[val] = p_decision[val]\n",
    "        for col in features:\n",
    "            if x[col] in p_attributes[col][val]:\n",
    "                p_estimated_decision[val] = p_estimated_decision[val] *p_attributes[col][val][x[col]]\n",
    "    return p_estimated_decision"
   ]
  },
  {
   "cell_type": "code",
   "execution_count": 89,
   "metadata": {},
   "outputs": [
    {
     "data": {
      "text/plain": [
       "like\n",
       "(-0.001, 2.0]    0.070473\n",
       "(2.0, 4.0]       0.213703\n",
       "(4.0, 6.0]       0.473409\n",
       "(6.0, 8.0]       0.221207\n",
       "(8.0, 10.0]      0.021207\n",
       "dtype: float64"
      ]
     },
     "execution_count": 89,
     "metadata": {},
     "output_type": "execute_result"
    }
   ],
   "source": [
    "test_data = pd.read_csv(\"testSet.csv\")\n",
    "for ix, x in enumerate(features):\n",
    "    p_0 = p_attributes_0[ix]\n",
    "    p_1 = p_attributes_1[ix]\n",
    "p_0"
   ]
  },
  {
   "cell_type": "code",
   "execution_count": 109,
   "metadata": {},
   "outputs": [],
   "source": [
    "test_data = pd.read_csv(\"testSet.csv\")\n",
    "accuracy_test = 0\n",
    "p_0 = np.\n",
    "ones(len(test_data))\n",
    "p_1 = np.ones(len(test_data))\n",
    "for ix, col in enumerate(features):\n",
    "    p_0 *= test_data[col].map(p_attributes_0[ix])\n",
    "    p_1 *= test_data[col].map(p_attributes_0[ix])\n",
    "prediction = "
   ]
  },
  {
   "cell_type": "code",
   "execution_count": 62,
   "metadata": {
    "scrolled": true
   },
   "outputs": [
    {
     "name": "stdout",
     "output_type": "stream",
     "text": [
      "0.7494440326167532\n",
      "0.7494440326167532\n"
     ]
    }
   ],
   "source": [
    "print(\"Testing Accuracy:\", accuracy_test/len(test_data))"
   ]
  },
  {
   "cell_type": "code",
   "execution_count": 63,
   "metadata": {},
   "outputs": [],
   "source": [
    "training_data = pd.read_csv(\"trainingSet.csv\")\n",
    "accuracy_training = 0\n",
    "for i,x in training_data.iterrows():\n",
    "    p_estimated_decision = get_class(x)\n",
    "    accuracy_training += 1 if max(p_estimated_decision, key=p_estimated_decision.get) == x['decision'] else 0"
   ]
  },
  {
   "cell_type": "code",
   "execution_count": 64,
   "metadata": {},
   "outputs": [
    {
     "name": "stdout",
     "output_type": "stream",
     "text": [
      "0.77516218721038\n",
      "0.77516218721038\n"
     ]
    }
   ],
   "source": [
    "print(\"Training Accuracy:\", accuracy_test/len(test_data))"
   ]
  }
 ],
 "metadata": {
  "kernelspec": {
   "display_name": "Python 3",
   "language": "python",
   "name": "python3"
  },
  "language_info": {
   "codemirror_mode": {
    "name": "ipython",
    "version": 3
   },
   "file_extension": ".py",
   "mimetype": "text/x-python",
   "name": "python",
   "nbconvert_exporter": "python",
   "pygments_lexer": "ipython3",
   "version": "3.7.3"
  }
 },
 "nbformat": 4,
 "nbformat_minor": 2
}
