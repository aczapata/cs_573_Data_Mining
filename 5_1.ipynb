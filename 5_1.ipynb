{
 "cells": [
  {
   "cell_type": "code",
   "execution_count": 65,
   "metadata": {},
   "outputs": [],
   "source": [
    "import pandas as pd\n",
    "import numpy as np"
   ]
  },
  {
   "cell_type": "code",
   "execution_count": 66,
   "metadata": {},
   "outputs": [],
   "source": [
    "training_data = pd.read_csv(\"trainingSet.csv\")\n",
    "features = [col for col in training_data.columns if col not in ['decision']]"
   ]
  },
  {
   "cell_type": "code",
   "execution_count": 83,
   "metadata": {},
   "outputs": [],
   "source": [
    "def nbc(t_frac):\n",
    "    training_sample = training_data.sample(frac=t_frac, random_state=47)\n",
    "    p_decision = training_sample.groupby(['decision'])['decision'].count()/len(training_sample)\n",
    "    p_attributes_0 = np.empty(len(features), dtype=object)\n",
    "    p_attributes_1 = np.empty(len(features), dtype=object)\n",
    "    for ix, col in enumerate(features):\n",
    "        p_attributes = (training_sample.groupby(['decision', col])['decision'].count().unstack(fill_value=0).stack() + 1)/(training_sample.groupby(['decision'])['decision'].count()+len(training_sample[col].sort_values().unique()))\n",
    "        p_attributes_0[ix] =  p_attributes[0]\n",
    "        p_attributes_1[ix] =  p_attributes[1]\n",
    "    return p_decision, p_attributes_0, p_attributes_1"
   ]
  },
  {
   "cell_type": "code",
   "execution_count": 85,
   "metadata": {},
   "outputs": [
    {
     "data": {
      "text/plain": [
       "age\n",
       "(17.999, 26.0]    0.551090\n",
       "(26.0, 34.0]      0.430098\n",
       "(34.0, 42.0]      0.017529\n",
       "(50.0, 58.0]      0.001283\n",
       "dtype: float64"
      ]
     },
     "execution_count": 85,
     "metadata": {},
     "output_type": "execute_result"
    }
   ],
   "source": [
    "p_decision, p_attributes_0, p_attributes_1 = nbc(1)\n",
    "p_attributes_0[1]\n",
    "p_attributes_1[1]"
   ]
  },
  {
   "cell_type": "code",
   "execution_count": 7,
   "metadata": {},
   "outputs": [],
   "source": [
    "def get_class(x):\n",
    "    p_estimated_decision = {}\n",
    "    for val in training_data['decision'].unique():\n",
    "        p_estimated_decision[val] = p_decision[val]\n",
    "        for col in features:\n",
    "            if x[col] in p_attributes[col][val]:\n",
    "                p_estimated_decision[val] = p_estimated_decision[val] *p_attributes[col][val][x[col]]\n",
    "    return p_estimated_decision"
   ]
  },
  {
   "cell_type": "code",
   "execution_count": 89,
   "metadata": {},
   "outputs": [
    {
     "data": {
      "text/plain": [
       "like\n",
       "(-0.001, 2.0]    0.070473\n",
       "(2.0, 4.0]       0.213703\n",
       "(4.0, 6.0]       0.473409\n",
       "(6.0, 8.0]       0.221207\n",
       "(8.0, 10.0]      0.021207\n",
       "dtype: float64"
      ]
     },
     "execution_count": 89,
     "metadata": {},
     "output_type": "execute_result"
    }
   ],
   "source": [
    "test_data = pd.read_csv(\"testSet.csv\")\n",
    "for ix, x in enumerate(features):\n",
    "    p_0 = p_attributes_0[ix]\n",
    "    p_1 = p_attributes_1[ix]\n",
    "p_0"
   ]
  },
  {
   "cell_type": "code",
   "execution_count": 109,
   "metadata": {},
   "outputs": [],
   "source": [
    "test_data = pd.read_csv(\"testSet.csv\")\n",
    "accuracy_test = 0\n",
    "p_0 = np.\n",
    "ones(len(test_data))\n",
    "p_1 = np.ones(len(test_data))\n",
    "for ix, col in enumerate(features):\n",
    "    p_0 *= test_data[col].map(p_attributes_0[ix])\n",
    "    p_1 *= test_data[col].map(p_attributes_0[ix])\n",
    "prediction = "
   ]
  },
  {
   "cell_type": "code",
   "execution_count": 62,
   "metadata": {
    "scrolled": true
   },
   "outputs": [
    {
     "name": "stdout",
     "output_type": "stream",
     "text": [
      "0.7494440326167532\n",
      "0.7494440326167532\n"
     ]
    }
   ],
   "source": [
    "print(\"Testing Accuracy:\", accuracy_test/len(test_data))"
   ]
  },
  {
   "cell_type": "code",
   "execution_count": 63,
   "metadata": {},
   "outputs": [],
   "source": [
    "training_data = pd.read_csv(\"trainingSet.csv\")\n",
    "accuracy_training = 0\n",
    "for i,x in training_data.iterrows():\n",
    "    p_estimated_decision = get_class(x)\n",
    "    accuracy_training += 1 if max(p_estimated_decision, key=p_estimated_decision.get) == x['decision'] else 0"
   ]
  },
  {
   "cell_type": "code",
   "execution_count": 64,
   "metadata": {},
   "outputs": [
    {
     "name": "stdout",
     "output_type": "stream",
     "text": [
      "0.77516218721038\n",
      "0.77516218721038\n"
     ]
    }
   ],
   "source": [
    "print(\"Training Accuracy:\", accuracy_test/len(test_data))"
   ]
  }
 ],
 "metadata": {
  "kernelspec": {
   "display_name": "Python 3",
   "language": "python",
   "name": "python3"
  },
  "language_info": {
   "codemirror_mode": {
    "name": "ipython",
    "version": 3
   },
   "file_extension": ".py",
   "mimetype": "text/x-python",
   "name": "python",
   "nbconvert_exporter": "python",
   "pygments_lexer": "ipython3",
   "version": "3.7.3"
  }
 },
 "nbformat": 4,
 "nbformat_minor": 2
}
